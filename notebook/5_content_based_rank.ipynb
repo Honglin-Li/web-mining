{
 "nbformat": 4,
 "nbformat_minor": 0,
 "metadata": {
  "colab": {
   "name": "5_content_based_rank.ipynb",
   "provenance": [],
   "collapsed_sections": []
  },
  "kernelspec": {
   "name": "python3",
   "display_name": "Python 3"
  },
  "language_info": {
   "name": "python"
  }
 },
 "cells": [
  {
   "cell_type": "markdown",
   "metadata": {
    "id": "IsL8Tm7YpJr_"
   },
   "source": [
    "<a class=\"anchor\" id=\"section5\"></a>\n",
    "## Section 5 Content-based Recommender"
   ]
  },
  {
   "cell_type": "code",
   "metadata": {
    "id": "wqQc1QSznVh8"
   },
   "source": [
    "import pandas as pd\n",
    "import numpy as np\n",
    "import pickle\n",
    "from itertools import islice"
   ],
   "execution_count": null,
   "outputs": []
  },
  {
   "cell_type": "code",
   "metadata": {
    "id": "0Nr-81emnWHw"
   },
   "source": [
    "userID_artistID_weight_percentage = pd.read_csv('data/interim/userID_artistID_weight_percentage.csv', encoding='utf-8')\n",
    "artist_metadata_final = pd.read_csv('data/interim/artist_metadata_final.csv', encoding='utf-8')\n",
    "artists = pd.read_table('data/dataset/artists.dat', encoding='utf-8')\n",
    "\n",
    "artists = artists.rename(columns={'id': 'artistID'})\n",
    "artists = artists[['artistID', 'name']]\n",
    "\n",
    "Final = artist_metadata_final.merge(artists, left_on='id', right_on='artistID', how='outer')\n",
    "Final = Final.reindex(columns=['artistID', 'name_y','metadata'])\n",
    "Final.fillna(\"\", inplace=True)"
   ],
   "execution_count": null,
   "outputs": []
  },
  {
   "cell_type": "code",
   "metadata": {
    "id": "I2-LQcTAnWKH"
   },
   "source": [
    "def create_pivot_table(pd_df):\n",
    "    data = pd_df.values\n",
    "    #print(data.shape)\n",
    "    rows, row_pos = np.unique(data[:, 0], return_inverse=True)\n",
    "    cols, col_pos = np.unique(data[:, 1], return_inverse=True)\n",
    "    pivot_matrix = np.zeros((len(rows), len(cols)), dtype=data.dtype)\n",
    "    pivot_matrix[row_pos, col_pos] = data[:, 2]\n",
    "    print(pivot_matrix.shape)\n",
    "    return pivot_matrix\n",
    "\n",
    "\n",
    "def predict(ratings, similarity, type='user'):\n",
    "    if type == 'user':\n",
    "        mean_user_rating = ratings.mean(axis=1)  # axis=0: apply vertical(row)/axis=1: apply horizontial(row)\n",
    "        # Use np.newaxis so that mean_user_rating has same format as ratings\n",
    "        ratings_diff = (ratings - mean_user_rating[:, np.newaxis])\n",
    "        pred = mean_user_rating[:, np.newaxis] + similarity.dot(ratings_diff) / np.array(\n",
    "            [np.abs(similarity).sum(axis=1)]).T\n",
    "        # pred = 0 + similarity.dot(ratings_diff) / np.array([np.abs(similarity).sum(axis=1)]).T\n",
    "    elif type == 'item':\n",
    "        mean_item_rating = ratings.mean(axis=0)\n",
    "        ratings_diff = (ratings - mean_item_rating[np.newaxis, :])\n",
    "        # pred = 0 + ratings_diff.dot(similarity) / np.array([np.abs(similarity).sum(axis=1)])\n",
    "        pred = mean_item_rating[np.newaxis, :] + ratings_diff.dot(similarity) / np.array(\n",
    "            [np.abs(similarity).sum(axis=1)])\n",
    "    elif type == 'content':\n",
    "        pred = ratings.dot(similarity) / np.array([np.abs(similarity).sum(axis=1)])\n",
    "    return pred.clip(min=0)\n",
    "\n",
    "indices = pd.Series(Final.index, index=Final['name_y']).drop_duplicates()\n",
    "def get_recommendations(artist, cosine_sim, method_name, num_recommend=10):\n",
    "    # Get the index of the artist\n",
    "    idx = indices[artist]\n",
    "\n",
    "    # Get the pairwise similarity scores of all artists with that artist\n",
    "    sim_scores = list(enumerate(cosine_sim[idx]))\n",
    "\n",
    "    # Sort the artists based on the similarity scores\n",
    "    sim_scores = sorted(sim_scores, key=lambda x: x[1], reverse=True)\n",
    "\n",
    "    # Get the scores of the top K most similar artists\n",
    "    sim_scores = sim_scores[1:num_recommend]\n",
    "\n",
    "    # Get the artist indices\n",
    "    artist_indices = [i[0] for i in sim_scores]\n",
    "\n",
    "    # Get the pred scores\n",
    "    artist_pred_score = [i[1] for i in sim_scores]\n",
    "\n",
    "    # Return the top K most similar artists\n",
    "    return pd.DataFrame({'artistId': artist_indices,'name_y': list(Final['name_y'].iloc[artist_indices].values), 'metadata': list(Final['metadata'].iloc[artist_indices].values), method_name: artist_pred_score})\n",
    "\n",
    "def pred_norm(similarity, a, b):\n",
    "  return (b-a)*((similarity-np.min(similarity, axis=1)[np.newaxis, :])/np.max(similarity, axis=1)[np.newaxis, :]-np.min(similarity, axis=1)[np.newaxis, :])+a"
   ],
   "execution_count": null,
   "outputs": []
  },
  {
   "cell_type": "code",
   "metadata": {
    "id": "EW2Ad9YznWMi"
   },
   "source": [
    "def recommend_artists(pred_df, userID, artists, original_ratings, num_recommendations, method_name):\n",
    "    # Get and sort the user's predictions\n",
    "    user_row_number = userID - 1 # User ID starts at 1, not 0\n",
    "    sorted_user_predictions = pred_df.iloc[user_row_number].sort_values(ascending=False) # User ID starts at 1\n",
    "    print(sorted_user_predictions)\n",
    "    \n",
    "    # Get the user's data and merge in the artist information.\n",
    "    user_data = original_ratings[original_ratings.userID == (userID)]\n",
    "    user_full = (user_data.merge(artists, how = 'left', left_on = 'artistID', right_on = 'artistID').\n",
    "                     sort_values(['weight_percentage'], ascending=False)\n",
    "                 )\n",
    "    \n",
    "    # Recommend the highest predicted rating artists that the user hasn't seen yet.\n",
    "    recommendations = (artists[~artists['artistID'].isin(user_full['artistID'])].\n",
    "         merge(pd.DataFrame(sorted_user_predictions).rename_axis('artistID').reset_index(), how = 'left',\n",
    "               left_on = 'artistID',\n",
    "               right_on = 'artistID').\n",
    "         rename(columns = {user_row_number: method_name}).\n",
    "         sort_values(method_name, ascending = False).\n",
    "                       iloc[:num_recommendations, :]\n",
    "                      )\n",
    "\n",
    "    return user_full, recommendations"
   ],
   "execution_count": null,
   "outputs": []
  },
  {
   "cell_type": "code",
   "metadata": {
    "id": "MH27XJ-tnjjN"
   },
   "source": [
    "ratings_f = userID_artistID_weight_percentage.groupby('userID').filter(lambda x: len(x) >= 0)\n",
    "artist_list_rating = ratings_f.artistID.unique().tolist()\n",
    "artists_filter = artists[artists.artistID.isin(artist_list_rating)]"
   ],
   "execution_count": null,
   "outputs": []
  },
  {
   "cell_type": "code",
   "metadata": {
    "id": "6SsksGjfnjlI"
   },
   "source": [
    "ratings_f1 = userID_artistID_weight_percentage.reindex(columns=['artistID', 'userID','weight_percentage'])\n",
    "userID_artistID_weight_percentage = userID_artistID_weight_percentage.reindex(columns=['artistID', 'userID','weight_percentage'])"
   ],
   "execution_count": null,
   "outputs": []
  },
  {
   "cell_type": "code",
   "metadata": {
    "id": "0TRQwuHMnjnA"
   },
   "source": [
    "ratings_f2 = userID_artistID_weight_percentage.pivot(index=\"artistID\", columns=\"userID\", values=\"weight_percentage\").fillna(0)\n",
    "ratings_f2.shape"
   ],
   "execution_count": null,
   "outputs": []
  },
  {
   "cell_type": "code",
   "metadata": {
    "id": "i-kVqpUmnjo7"
   },
   "source": [
    "ratings_f2 = create_pivot_table(userID_artistID_weight_percentage)"
   ],
   "execution_count": null,
   "outputs": []
  },
  {
   "cell_type": "code",
   "metadata": {
    "id": "QfW2mZ_Lnjqq"
   },
   "source": [
    "from sklearn.feature_extraction.text import TfidfVectorizer\n",
    "tfidf = TfidfVectorizer(stop_words='english')\n",
    "tfidf_matrix = tfidf.fit_transform(Final['metadata'])\n",
    "tfidf_df = pd.DataFrame(tfidf_matrix.toarray(), index=Final.index.tolist())\n",
    "print(tfidf_df.shape)"
   ],
   "execution_count": null,
   "outputs": []
  },
  {
   "cell_type": "code",
   "metadata": {
    "id": "OGlIMZRfnjsu"
   },
   "source": [
    "from sklearn.metrics.pairwise import linear_kernel"
   ],
   "execution_count": null,
   "outputs": []
  },
  {
   "cell_type": "code",
   "metadata": {
    "id": "ZYAf9l_gnxBE"
   },
   "source": [
    "content_correlation = linear_kernel(tfidf_matrix, tfidf_matrix)"
   ],
   "execution_count": null,
   "outputs": []
  },
  {
   "cell_type": "code",
   "metadata": {
    "id": "YPlqFLk5nxDH"
   },
   "source": [
    "def pred_norm(similarity, a, b):\n",
    "  return (b-a)*((similarity-np.min(similarity, axis=1)[np.newaxis, :])/np.max(similarity, axis=1)[np.newaxis, :]-np.min(similarity, axis=1)[np.newaxis, :])+a\n",
    "content_prediction = pred_norm(content_correlation, 0,5)\n",
    "content_pred_df = pd.DataFrame(content_prediction, columns = list(artists_filter.artistID))\n",
    "print(content_pred_df.shape)\n",
    "print('Content-based RS without ranking')\n",
    "user_full, recommendations = recommend_artists(content_pred_df, 4, Final, ratings_f1, 5, 'CT_3c_pred_rating')\n",
    "recommendations"
   ],
   "execution_count": null,
   "outputs": []
  },
  {
   "cell_type": "code",
   "metadata": {
    "id": "eP_Xw3aVnxFE"
   },
   "source": [
    "###Create Recommendation based on userID, their artists and the weight of that artist, which is based on\n",
    "###the relative frequency of how often a userUd listens to that artist."
   ],
   "execution_count": null,
   "outputs": []
  },
  {
   "cell_type": "code",
   "metadata": {
    "id": "75tAkpldnxG9"
   },
   "source": [
    "list_for_recommendation = pd.read_csv('data/interim/list_for_recommendation.csv', encoding='utf-8')"
   ],
   "execution_count": null,
   "outputs": []
  },
  {
   "cell_type": "code",
   "metadata": {
    "id": "bRkea1WynxIp"
   },
   "source": [
    "#Creates a dictionary with recommendations for a user based on the whole list of artists an user listen to. To recommendation weights are based on the relative frequency of how often\n",
    "#an user has listen to the artist. Recommendation is based on tags and genre.\n",
    "dictionary = {}\n",
    "x = 0\n",
    "y = 0\n",
    "for index, row in list_for_recommendation.iterrows():\n",
    "    try:\n",
    "        if row['userID'] not in dictionary:\n",
    "            dictionary[row['userID']] = {}\n",
    "            based_on = ([row['name']])\n",
    "            based_on = based_on[0]\n",
    "            recommendation = get_recommendations(based_on, content_prediction, 'CT_3c_pred_rating', num_recommend=11)\n",
    "            \n",
    "            for index, row_rec in recommendation.iterrows():\n",
    "                if not row_rec['name_y'] in dictionary[row['userID']]:\n",
    "                    dictionary[row['userID']][row_rec['name_y']] =  row_rec['CT_3c_pred_rating'] * row['weight_percentage']\n",
    "                else:\n",
    "                    dictionary[row['userID']][row_rec['name_y']] = dictionary[row['userID']][row_rec['name_y']] + (row_rec['CT_3c_pred_rating'] * row['weight_percentage'])\n",
    "\n",
    "\n",
    "            #dictionary[row['userID']][row['name']] = 2\n",
    "        else:\n",
    "            based_on = [row['name']]\n",
    "            based_on = based_on[0]\n",
    "            recommendation = get_recommendations(based_on, content_prediction, 'CT_3c_pred_rating', num_recommend=11)\n",
    "            for index, row_rec in recommendation.iterrows():\n",
    "                if not row_rec['name_y'] in dictionary[row['userID']]:\n",
    "                    dictionary[row['userID']][row_rec['name_y']] =  row_rec['CT_3c_pred_rating'] * row['weight_percentage']\n",
    "                else:\n",
    "                    dictionary[row['userID']][row_rec['name_y']] = dictionary[row['userID']][row_rec['name_y']] + (row_rec['CT_3c_pred_rating'] * row['weight_percentage'])\n",
    "    except:\n",
    "        y = y + 1\n",
    "    x = x + 1\n",
    "    print(x)\n",
    "print(y)\n",
    "        "
   ],
   "execution_count": null,
   "outputs": []
  },
  {
   "cell_type": "code",
   "metadata": {
    "id": "KqsQljcYoWCJ"
   },
   "source": [
    "#save dictionary\n",
    "dictionary = open(\"userID_recommendations.pkl\", \"wb\")\n",
    "pickle.dump(dictionary, dictionary)\n",
    "dictionary.close()"
   ],
   "execution_count": null,
   "outputs": []
  },
  {
   "cell_type": "code",
   "metadata": {
    "id": "MfIxbI8-oWEK"
   },
   "source": [
    "df = pd.DataFrame(columns={'userID','name','rec_value'})\n",
    "df"
   ],
   "execution_count": null,
   "outputs": []
  },
  {
   "cell_type": "code",
   "metadata": {
    "id": "cbuudk7goWGJ"
   },
   "source": [
    "#create dataframe with top 10 artist for each user\n",
    "x = 0\n",
    "y = 0\n",
    "for userID in dictionary:\n",
    "    sorted_dictionary = dict(sorted(dictionary[userID].items(), key=lambda x: x[1], reverse=True))\n",
    "    for artist in islice(sorted_dictionary, 10):\n",
    "        df = df.append(pd.DataFrame(data={'userID': userID, 'name': artist, 'rec_value': sorted_dictionary[artist] }, index=[x]))\n",
    "        x = x + 1\n",
    "y = y + 1"
   ],
   "execution_count": null,
   "outputs": []
  },
  {
   "cell_type": "code",
   "metadata": {
    "id": "PHYeMbG5Ofvj"
   },
   "source": [
    "df.to_csv('content_based_result.csv')"
   ],
   "execution_count": null,
   "outputs": []
  }
 ]
}